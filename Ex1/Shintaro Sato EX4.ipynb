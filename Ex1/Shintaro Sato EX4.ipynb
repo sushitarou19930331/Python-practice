{
 "cells": [
  {
   "cell_type": "code",
   "execution_count": 1,
   "id": "5d7c8481",
   "metadata": {},
   "outputs": [
    {
     "name": "stdout",
     "output_type": "stream",
     "text": [
      "Write a number n: 3\n",
      "The value is: 6\n"
     ]
    }
   ],
   "source": [
    "#1.4.1.\n",
    "n=input(\"Write a number n: \")\n",
    "a=int(n)\n",
    "b=a+a\n",
    "print(\"The value is:\",b)"
   ]
  },
  {
   "cell_type": "code",
   "execution_count": 2,
   "id": "573706ec",
   "metadata": {},
   "outputs": [
    {
     "name": "stdout",
     "output_type": "stream",
     "text": [
      "Write your First Name : 2\n",
      "Write your Last Name : 2\n",
      "2 2\n"
     ]
    }
   ],
   "source": [
    "#1.4.2.\n",
    "firstname = input(\"Write your First Name : \")\n",
    "lastname = input(\"Write your Last Name : \")\n",
    "print (lastname + \" \" + firstname)"
   ]
  },
  {
   "cell_type": "code",
   "execution_count": 3,
   "id": "f2d15b91",
   "metadata": {},
   "outputs": [
    {
     "name": "stdout",
     "output_type": "stream",
     "text": [
      "Given String a\n",
      "a\n"
     ]
    }
   ],
   "source": [
    "#1.4.3.\n",
    "a_str = input(\"Given String \")\n",
    "rev_str = list(reversed(a_str))\n",
    "rev_str = ''.join(list(reversed(a_str)))\n",
    "print(rev_str)"
   ]
  },
  {
   "cell_type": "code",
   "execution_count": null,
   "id": "ae672182",
   "metadata": {},
   "outputs": [],
   "source": [
    "#1.4.4.\n",
    "str1 = input(\"str1:\" )\n",
    "str2 = input(\"str2:\" )\n",
    "a=int(len(str1))\n",
    "b=int(len(str2))\n",
    "Mid_Indx = int(len(str1) / 2)\n",
    "\n",
    "if a % 2 == 0:\n",
    "    str3_a = str1[:Mid_Indx:] + str2 + str1[Mid_Indx:]\n",
    "    print(\"str3:\"+str3_a)\n",
    "else:\n",
    "    str3_b = str1[:Mid_Indx + 1:] + str2 + str1[Mid_Indx + 1:]\n",
    "    print(\"str3:\"+str3_b)\n"
   ]
  },
  {
   "cell_type": "code",
   "execution_count": null,
   "id": "40fdd826",
   "metadata": {},
   "outputs": [],
   "source": []
  }
 ],
 "metadata": {
  "kernelspec": {
   "display_name": "Python 3 (ipykernel)",
   "language": "python",
   "name": "python3"
  },
  "language_info": {
   "codemirror_mode": {
    "name": "ipython",
    "version": 3
   },
   "file_extension": ".py",
   "mimetype": "text/x-python",
   "name": "python",
   "nbconvert_exporter": "python",
   "pygments_lexer": "ipython3",
   "version": "3.10.8"
  }
 },
 "nbformat": 4,
 "nbformat_minor": 5
}
