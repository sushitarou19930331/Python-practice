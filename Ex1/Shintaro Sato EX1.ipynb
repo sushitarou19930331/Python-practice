{
 "cells": [
  {
   "cell_type": "code",
   "execution_count": 1,
   "id": "e15789d4",
   "metadata": {},
   "outputs": [],
   "source": [
    "#1.1.1.\n",
    "x=13"
   ]
  },
  {
   "cell_type": "code",
   "execution_count": 2,
   "id": "2dc21e57",
   "metadata": {},
   "outputs": [
    {
     "name": "stdout",
     "output_type": "stream",
     "text": [
      "13 : <class 'int'>\n"
     ]
    }
   ],
   "source": [
    "#1.1.2.\n",
    "print(x,\":\",type(x))"
   ]
  },
  {
   "cell_type": "code",
   "execution_count": 3,
   "id": "f95a8e6a",
   "metadata": {},
   "outputs": [],
   "source": [
    "#1.1.3.\n",
    "y=5"
   ]
  },
  {
   "cell_type": "code",
   "execution_count": 4,
   "id": "26bf7a27",
   "metadata": {},
   "outputs": [],
   "source": [
    "#1.1.4.\n",
    "z=x+y"
   ]
  },
  {
   "cell_type": "code",
   "execution_count": 5,
   "id": "02f5c5a2",
   "metadata": {},
   "outputs": [],
   "source": [
    "#1.1.5.\n",
    "z=z/3"
   ]
  },
  {
   "cell_type": "code",
   "execution_count": 6,
   "id": "d6921e5d",
   "metadata": {},
   "outputs": [
    {
     "name": "stdout",
     "output_type": "stream",
     "text": [
      "<class 'float'>\n"
     ]
    }
   ],
   "source": [
    "#1.1.6.\n",
    "print(type(z))"
   ]
  },
  {
   "cell_type": "code",
   "execution_count": 7,
   "id": "8c309f8f",
   "metadata": {},
   "outputs": [],
   "source": [
    "#1.1.7.\n",
    "z=z*6"
   ]
  },
  {
   "cell_type": "code",
   "execution_count": 8,
   "id": "09cc0f42",
   "metadata": {},
   "outputs": [
    {
     "name": "stdout",
     "output_type": "stream",
     "text": [
      "36.0\n"
     ]
    }
   ],
   "source": [
    "#1.1.8.\n",
    "print(z)"
   ]
  },
  {
   "cell_type": "code",
   "execution_count": 9,
   "id": "389ca071",
   "metadata": {},
   "outputs": [],
   "source": [
    "#1.1.9.\n",
    "x,y=x+3,z/4"
   ]
  },
  {
   "cell_type": "code",
   "execution_count": 10,
   "id": "4d6fba59",
   "metadata": {},
   "outputs": [
    {
     "name": "stdout",
     "output_type": "stream",
     "text": [
      "16 9.0\n"
     ]
    }
   ],
   "source": [
    "#1.1.10.\n",
    "print(x , y)"
   ]
  },
  {
   "cell_type": "code",
   "execution_count": 11,
   "id": "50922b86",
   "metadata": {},
   "outputs": [],
   "source": [
    "#1.1.11.\n",
    "a=25"
   ]
  },
  {
   "cell_type": "code",
   "execution_count": 12,
   "id": "9008bd8f",
   "metadata": {},
   "outputs": [],
   "source": [
    "#1.1.12.\n",
    "b=0.05*a"
   ]
  },
  {
   "cell_type": "code",
   "execution_count": 13,
   "id": "c7f822c1",
   "metadata": {},
   "outputs": [
    {
     "name": "stdout",
     "output_type": "stream",
     "text": [
      "<class 'float'>\n"
     ]
    }
   ],
   "source": [
    "#1.1.13.\n",
    "print(type(b))"
   ]
  },
  {
   "cell_type": "code",
   "execution_count": 14,
   "id": "40ab8bfe",
   "metadata": {},
   "outputs": [],
   "source": [
    "#1.1.14.\n",
    "c=12.75"
   ]
  },
  {
   "cell_type": "code",
   "execution_count": 15,
   "id": "780429e6",
   "metadata": {},
   "outputs": [],
   "source": [
    "#1.1.15.\n",
    "d=c+a"
   ]
  },
  {
   "cell_type": "code",
   "execution_count": 16,
   "id": "bd078d0b",
   "metadata": {},
   "outputs": [
    {
     "name": "stdout",
     "output_type": "stream",
     "text": [
      "<class 'int'> <class 'float'> <class 'float'>\n"
     ]
    }
   ],
   "source": [
    "#1.1.16.\n",
    "print(type(a),type(c),type(d))"
   ]
  },
  {
   "cell_type": "code",
   "execution_count": null,
   "id": "6879ca24",
   "metadata": {},
   "outputs": [],
   "source": []
  }
 ],
 "metadata": {
  "kernelspec": {
   "display_name": "Python 3 (ipykernel)",
   "language": "python",
   "name": "python3"
  },
  "language_info": {
   "codemirror_mode": {
    "name": "ipython",
    "version": 3
   },
   "file_extension": ".py",
   "mimetype": "text/x-python",
   "name": "python",
   "nbconvert_exporter": "python",
   "pygments_lexer": "ipython3",
   "version": "3.10.8"
  }
 },
 "nbformat": 4,
 "nbformat_minor": 5
}
