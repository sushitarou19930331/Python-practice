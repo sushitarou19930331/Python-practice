{
 "cells": [
  {
   "cell_type": "code",
   "execution_count": 1,
   "id": "18b38699",
   "metadata": {},
   "outputs": [],
   "source": [
    "#1.2.1.\n",
    "str=\"Hello, my name is \""
   ]
  },
  {
   "cell_type": "code",
   "execution_count": 2,
   "id": "89ce5e14",
   "metadata": {},
   "outputs": [],
   "source": [
    "#1.2.2.\n",
    "str=\"Hello, my name is \" +\"Shintaro\""
   ]
  },
  {
   "cell_type": "code",
   "execution_count": 3,
   "id": "c5b4f002",
   "metadata": {},
   "outputs": [
    {
     "name": "stdout",
     "output_type": "stream",
     "text": [
      "Hello, my name is Shintaro\n"
     ]
    }
   ],
   "source": [
    "#1.2.3.\n",
    "print(str)"
   ]
  },
  {
   "cell_type": "code",
   "execution_count": 4,
   "id": "af72c8bf",
   "metadata": {},
   "outputs": [
    {
     "name": "stdout",
     "output_type": "stream",
     "text": [
      "26\n"
     ]
    }
   ],
   "source": [
    "#1.2.4.\n",
    "print(len(str))"
   ]
  },
  {
   "cell_type": "code",
   "execution_count": 5,
   "id": "9692f913",
   "metadata": {},
   "outputs": [
    {
     "name": "stdout",
     "output_type": "stream",
     "text": [
      "Hello, my name is ShintaroHello, my name is ShintaroHello, my name is Shintaro\n"
     ]
    }
   ],
   "source": [
    "#1.2.5.\n",
    "print(str*3)"
   ]
  },
  {
   "cell_type": "code",
   "execution_count": 6,
   "id": "f0d7822f",
   "metadata": {},
   "outputs": [
    {
     "name": "stdout",
     "output_type": "stream",
     "text": [
      "Hello, my name is Shintaro\n",
      "Hello, my name is Shintaro\n",
      "Hello, my name is Shintaro\n",
      "\n"
     ]
    }
   ],
   "source": [
    "#1.2.6.\n",
    "str=\"Hello, my name is \" +\"Shintaro\\n\"\n",
    "print(str*3)"
   ]
  },
  {
   "cell_type": "code",
   "execution_count": 7,
   "id": "258bfa47",
   "metadata": {},
   "outputs": [],
   "source": [
    "#1.2.7.\n",
    "sub_str = str[:5]"
   ]
  },
  {
   "cell_type": "code",
   "execution_count": 8,
   "id": "afc5e553",
   "metadata": {},
   "outputs": [
    {
     "name": "stdout",
     "output_type": "stream",
     "text": [
      "Hello\n"
     ]
    }
   ],
   "source": [
    "#1.2.8.\n",
    "print (sub_str)"
   ]
  },
  {
   "cell_type": "code",
   "execution_count": 9,
   "id": "09be4e15",
   "metadata": {},
   "outputs": [],
   "source": [
    "#1.2.9.\n",
    "sub_str = str[-9:]"
   ]
  },
  {
   "cell_type": "code",
   "execution_count": 10,
   "id": "0d0002bd",
   "metadata": {},
   "outputs": [
    {
     "name": "stdout",
     "output_type": "stream",
     "text": [
      "Shintaro\n",
      "\n"
     ]
    }
   ],
   "source": [
    "#1.2.10.\n",
    "print (sub_str)"
   ]
  },
  {
   "cell_type": "code",
   "execution_count": null,
   "id": "e3659b47",
   "metadata": {},
   "outputs": [],
   "source": []
  }
 ],
 "metadata": {
  "kernelspec": {
   "display_name": "Python 3 (ipykernel)",
   "language": "python",
   "name": "python3"
  },
  "language_info": {
   "codemirror_mode": {
    "name": "ipython",
    "version": 3
   },
   "file_extension": ".py",
   "mimetype": "text/x-python",
   "name": "python",
   "nbconvert_exporter": "python",
   "pygments_lexer": "ipython3",
   "version": "3.10.8"
  }
 },
 "nbformat": 4,
 "nbformat_minor": 5
}
