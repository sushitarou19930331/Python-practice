{
 "cells": [
  {
   "cell_type": "code",
   "execution_count": 1,
   "id": "8ddaac91",
   "metadata": {},
   "outputs": [
    {
     "name": "stdout",
     "output_type": "stream",
     "text": [
      "Please put your number:3\n",
      "27\n"
     ]
    }
   ],
   "source": [
    "#1.3.1.\n",
    "x=input(\"Please put your number:\" )\n",
    "x=int(x)\n",
    "print(x**3)"
   ]
  },
  {
   "cell_type": "code",
   "execution_count": 3,
   "id": "151a042c",
   "metadata": {},
   "outputs": [
    {
     "name": "stdout",
     "output_type": "stream",
     "text": [
      "The radius of a circle: ３\n",
      "28.26\n"
     ]
    }
   ],
   "source": [
    "#1.3.2.\n",
    "x=input(\"The radius of a circle: \" )\n",
    "x=float(x)\n",
    "print(3.14*x**2)"
   ]
  },
  {
   "cell_type": "code",
   "execution_count": 2,
   "id": "b97af3fe",
   "metadata": {},
   "outputs": [
    {
     "name": "stdout",
     "output_type": "stream",
     "text": [
      "Input an integer n : ４\n",
      "492\n"
     ]
    }
   ],
   "source": [
    "#1.3.3.\n",
    "x = int(input(\"Input an integer n : \"))\n",
    "n1 = int( \"%s\" % x )\n",
    "n2 = int( \"%s%s\" % (x,x) )\n",
    "n3 = int( \"%s%s%s\" % (x,x,x) )\n",
    "print (n1+n2+n3)"
   ]
  },
  {
   "cell_type": "code",
   "execution_count": null,
   "id": "c062f524",
   "metadata": {},
   "outputs": [],
   "source": []
  }
 ],
 "metadata": {
  "kernelspec": {
   "display_name": "Python 3 (ipykernel)",
   "language": "python",
   "name": "python3"
  },
  "language_info": {
   "codemirror_mode": {
    "name": "ipython",
    "version": 3
   },
   "file_extension": ".py",
   "mimetype": "text/x-python",
   "name": "python",
   "nbconvert_exporter": "python",
   "pygments_lexer": "ipython3",
   "version": "3.10.8"
  }
 },
 "nbformat": 4,
 "nbformat_minor": 5
}
